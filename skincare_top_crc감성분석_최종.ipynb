{
 "cells": [
  {
   "cell_type": "markdown",
   "metadata": {},
   "source": [
    "# 파일 가져오기\n",
    "- crc3(좋아요X)"
   ]
  },
  {
   "cell_type": "code",
   "execution_count": 1,
   "metadata": {},
   "outputs": [],
   "source": [
    "import pandas as pd \n",
    "\n",
    "# skincare_top_crc3 ,좋X(3)\n",
    "# 파일 가져오기\n",
    "skincare_top_crc3_df = pd.read_excel(r\"C:\\Users\\82108\\Downloads\\skincare_top_crc3.xlsx\")"
   ]
  },
  {
   "cell_type": "code",
   "execution_count": 2,
   "metadata": {},
   "outputs": [
    {
     "data": {
      "text/html": [
       "<div>\n",
       "<style scoped>\n",
       "    .dataframe tbody tr th:only-of-type {\n",
       "        vertical-align: middle;\n",
       "    }\n",
       "\n",
       "    .dataframe tbody tr th {\n",
       "        vertical-align: top;\n",
       "    }\n",
       "\n",
       "    .dataframe thead th {\n",
       "        text-align: right;\n",
       "    }\n",
       "</style>\n",
       "<table border=\"1\" class=\"dataframe\">\n",
       "  <thead>\n",
       "    <tr style=\"text-align: right;\">\n",
       "      <th></th>\n",
       "      <th>0</th>\n",
       "    </tr>\n",
       "  </thead>\n",
       "  <tbody>\n",
       "    <tr>\n",
       "      <th>0</th>\n",
       "      <td>진정 사 보 너무</td>\n",
       "    </tr>\n",
       "    <tr>\n",
       "      <th>1</th>\n",
       "      <td>여름 쓰 건조 않</td>\n",
       "    </tr>\n",
       "    <tr>\n",
       "      <th>2</th>\n",
       "      <td>벌써 통</td>\n",
       "    </tr>\n",
       "    <tr>\n",
       "      <th>3</th>\n",
       "      <td>휘뚜루마뚜루 바르 레틴올 입 문재인 아이템</td>\n",
       "    </tr>\n",
       "    <tr>\n",
       "      <th>4</th>\n",
       "      <td>레틴올 농도 좀 옅 편 자극 있 효과 세 레틴올 덕후 조금 수 있 데일리 낮 걱정 ...</td>\n",
       "    </tr>\n",
       "    <tr>\n",
       "      <th>...</th>\n",
       "      <td>...</td>\n",
       "    </tr>\n",
       "    <tr>\n",
       "      <th>77850</th>\n",
       "      <td>세일 사 더 세일</td>\n",
       "    </tr>\n",
       "    <tr>\n",
       "      <th>77851</th>\n",
       "      <td>평소 정말 잘 쓰 제품 N 번 구매 있</td>\n",
       "    </tr>\n",
       "    <tr>\n",
       "      <th>77852</th>\n",
       "      <td>할인 구매 가성비</td>\n",
       "    </tr>\n",
       "    <tr>\n",
       "      <th>77853</th>\n",
       "      <td>자극 없이 순하 또 구매</td>\n",
       "    </tr>\n",
       "    <tr>\n",
       "      <th>77854</th>\n",
       "      <td>촉촉하 보습 효과</td>\n",
       "    </tr>\n",
       "  </tbody>\n",
       "</table>\n",
       "<p>77855 rows × 1 columns</p>\n",
       "</div>"
      ],
      "text/plain": [
       "                                                       0\n",
       "0                                              진정 사 보 너무\n",
       "1                                              여름 쓰 건조 않\n",
       "2                                                   벌써 통\n",
       "3                                휘뚜루마뚜루 바르 레틴올 입 문재인 아이템\n",
       "4      레틴올 농도 좀 옅 편 자극 있 효과 세 레틴올 덕후 조금 수 있 데일리 낮 걱정 ...\n",
       "...                                                  ...\n",
       "77850                                          세일 사 더 세일\n",
       "77851                              평소 정말 잘 쓰 제품 N 번 구매 있\n",
       "77852                                          할인 구매 가성비\n",
       "77853                                      자극 없이 순하 또 구매\n",
       "77854                                          촉촉하 보습 효과\n",
       "\n",
       "[77855 rows x 1 columns]"
      ]
     },
     "execution_count": 2,
     "metadata": {},
     "output_type": "execute_result"
    }
   ],
   "source": [
    "skincare_top_crc3_df"
   ]
  },
  {
   "cell_type": "markdown",
   "metadata": {},
   "source": [
    "# 감성분석\n",
    "- 감성사전 불러오기 KNU\n",
    "- konlpy, Okt"
   ]
  },
  {
   "cell_type": "code",
   "execution_count": 3,
   "metadata": {},
   "outputs": [],
   "source": [
    "from konlpy.tag import Okt\n",
    "# 형태소 분석기\n",
    "okt = Okt()\n",
    "\n",
    "# SentiWord_Dict.txt 감성사전 불러오기\n",
    "def load_senti_dict(file_path):\n",
    "    senti_dict = {}\n",
    "    with open(file_path, 'r', encoding='utf-8') as f:\n",
    "        for line in f:\n",
    "            parts = line.strip().split()  # 공백으로 분리    \n",
    "            if len(parts) > 1:\n",
    "                word = ' '.join(parts[:-1])  # 마지막 항목을 제외한 나머지를 단어로 결합\n",
    "                score = int(parts[-1])  # 마지막 항목을 점수로 처리\n",
    "                senti_dict[word] = score\n",
    "            else:\n",
    "                print(f\"해당 줄을 무시합니다: {line}\")\n",
    "    return senti_dict\n",
    "\n",
    "# 감성 사전 로드\n",
    "senti_dict = load_senti_dict(r'C:\\Users\\82108\\Downloads\\KnuSentiLex-master(1)\\KnuSentiLex-master\\SentiWord_Dict.txt')\n",
    "\n",
    "# 감성 분석 함수 \n",
    "def analyze_sentiment(text, senti_dict):\n",
    "    # 형태소 분석\n",
    "    morphs = okt.morphs(text)\n",
    "    \n",
    "    # 감정 점수 계산\n",
    "    sentiment_score = 0\n",
    "    for word in morphs:\n",
    "        if word in senti_dict:  # 단어가 사전에 있는 경우\n",
    "            sentiment_score += senti_dict[word]\n",
    "    \n",
    "    # 점수에 따라 감정 판단\n",
    "    if sentiment_score > 0:\n",
    "        return \"긍정\"\n",
    "    elif sentiment_score < 0:\n",
    "        return \"부정\"\n",
    "    else:\n",
    "        return \"중립\"\n"
   ]
  },
  {
   "cell_type": "markdown",
   "metadata": {},
   "source": [
    "# 긍정/부정/중립 리스트 "
   ]
  },
  {
   "cell_type": "code",
   "execution_count": 4,
   "metadata": {},
   "outputs": [
    {
     "name": "stdout",
     "output_type": "stream",
     "text": [
      "                                                    Text Sentiment\n",
      "0                                              진정 사 보 너무        중립\n",
      "1                                              여름 쓰 건조 않        중립\n",
      "2                                                   벌써 통        중립\n",
      "3                                휘뚜루마뚜루 바르 레틴올 입 문재인 아이템        중립\n",
      "4      레틴올 농도 좀 옅 편 자극 있 효과 세 레틴올 덕후 조금 수 있 데일리 낮 걱정 ...        부정\n",
      "...                                                  ...       ...\n",
      "77850                                          세일 사 더 세일        중립\n",
      "77851                              평소 정말 잘 쓰 제품 N 번 구매 있        긍정\n",
      "77852                                          할인 구매 가성비        긍정\n",
      "77853                                      자극 없이 순하 또 구매        중립\n",
      "77854                                          촉촉하 보습 효과        중립\n",
      "\n",
      "[77855 rows x 2 columns]\n"
     ]
    }
   ],
   "source": [
    "# skincare_top_crc3_df = pd.read_excel(r\"C:\\Users\\82108\\Downloads\\skincare_top_crc3.xlsx\")\n",
    "# df를 list로 변경\n",
    "skincare_top_crc3_list = skincare_top_crc3_df.iloc[:, 0].astype(str).tolist()\n",
    "crc3_results = [(text, analyze_sentiment(text, senti_dict)) for text in skincare_top_crc3_list]\n",
    "\n",
    "# 결과 출력\n",
    "crc3_results_df = pd.DataFrame(crc3_results, columns=['Text', 'Sentiment'])\n",
    "print(crc3_results_df)"
   ]
  },
  {
   "cell_type": "code",
   "execution_count": 5,
   "metadata": {},
   "outputs": [],
   "source": [
    "# 긍정, 부정, 중립 리스트 생성\n",
    "crc3_positive_list = []\n",
    "crc3_negative_list = []\n",
    "crc3_neutral_list = []\n",
    "\n",
    "# 각 텍스트에 대해 감정 분석을 수행하고 리스트에 저장\n",
    "for text in skincare_top_crc3_list:\n",
    "    sentiment = analyze_sentiment(text, senti_dict)\n",
    "    if sentiment == \"긍정\":\n",
    "        crc3_positive_list.append(text)\n",
    "    elif sentiment == \"부정\":\n",
    "        crc3_negative_list.append(text)\n",
    "    else:\n",
    "        crc3_neutral_list.append(text)\n"
   ]
  },
  {
   "cell_type": "code",
   "execution_count": 6,
   "metadata": {},
   "outputs": [],
   "source": [
    "# crc긍/부/중 리스트 엑셀파일로 저장하기\n",
    "crc3_positive_list_df = pd.DataFrame(crc3_positive_list, columns=['text'])\n",
    "crc3_negative_list_df = pd.DataFrame(crc3_negative_list, columns=['text'])\n",
    "crc3_neutral_list_df = pd.DataFrame(crc3_neutral_list, columns=['text'])\n",
    "\n",
    "crc3_positive_list_excel = crc3_positive_list_df.to_excel('top_crc3_positive_list.xlsx', index= False)\n",
    "crc3_negative_list_excel = crc3_negative_list_df.to_excel('top_crc3_negative_list.xlsx', index= False)\n",
    "crc3_neutral_list_excel = crc3_neutral_list_df.to_excel('top_crc3_neutral_list.xlsx', index= False)"
   ]
  },
  {
   "cell_type": "code",
   "execution_count": null,
   "metadata": {},
   "outputs": [],
   "source": []
  }
 ],
 "metadata": {
  "kernelspec": {
   "display_name": "Python 3",
   "language": "python",
   "name": "python3"
  },
  "language_info": {
   "codemirror_mode": {
    "name": "ipython",
    "version": 3
   },
   "file_extension": ".py",
   "mimetype": "text/x-python",
   "name": "python",
   "nbconvert_exporter": "python",
   "pygments_lexer": "ipython3",
   "version": "3.10.11"
  }
 },
 "nbformat": 4,
 "nbformat_minor": 2
}
