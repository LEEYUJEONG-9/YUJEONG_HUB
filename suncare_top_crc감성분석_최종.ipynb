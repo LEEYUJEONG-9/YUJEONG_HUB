{
 "cells": [
  {
   "cell_type": "code",
   "execution_count": 1,
   "metadata": {},
   "outputs": [],
   "source": [
    "import pandas as pd \n",
    "\n",
    "# suncare_top_crc , 좋X(3)\n",
    "# 파일 가져오기\n",
    "suncare_top_crc3_df = pd.read_excel(r\"C:\\Users\\82108\\Downloads\\suncare_top_crc3.xlsx\")"
   ]
  },
  {
   "cell_type": "code",
   "execution_count": 2,
   "metadata": {},
   "outputs": [
    {
     "data": {
      "text/html": [
       "<div>\n",
       "<style scoped>\n",
       "    .dataframe tbody tr th:only-of-type {\n",
       "        vertical-align: middle;\n",
       "    }\n",
       "\n",
       "    .dataframe tbody tr th {\n",
       "        vertical-align: top;\n",
       "    }\n",
       "\n",
       "    .dataframe thead th {\n",
       "        text-align: right;\n",
       "    }\n",
       "</style>\n",
       "<table border=\"1\" class=\"dataframe\">\n",
       "  <thead>\n",
       "    <tr style=\"text-align: right;\">\n",
       "      <th></th>\n",
       "      <th>0</th>\n",
       "    </tr>\n",
       "  </thead>\n",
       "  <tbody>\n",
       "    <tr>\n",
       "      <th>0</th>\n",
       "      <td>무난 사용 같</td>\n",
       "    </tr>\n",
       "    <tr>\n",
       "      <th>1</th>\n",
       "      <td>잘 사용</td>\n",
       "    </tr>\n",
       "    <tr>\n",
       "      <th>2</th>\n",
       "      <td>감사</td>\n",
       "    </tr>\n",
       "    <tr>\n",
       "      <th>3</th>\n",
       "      <td>아빠 땀 흘리 서 크림 눈 들어가 안 바르 시 이거 자극 없 괜찮 시</td>\n",
       "    </tr>\n",
       "    <tr>\n",
       "      <th>4</th>\n",
       "      <td>늘 사용 제품 백 탁 거의 없</td>\n",
       "    </tr>\n",
       "    <tr>\n",
       "      <th>...</th>\n",
       "      <td>...</td>\n",
       "    </tr>\n",
       "    <tr>\n",
       "      <th>75367</th>\n",
       "      <td>눈 시리 피부 예민 편 잘못 구매 피부 쓰라리 경우 있 눌 시림 자주 느끼 제품 자...</td>\n",
       "    </tr>\n",
       "    <tr>\n",
       "      <th>75368</th>\n",
       "      <td>저 서 크림 권장량 그대로 다 바르 눈 시리 있 선 크림 제품 많 이거 바르 피부 ...</td>\n",
       "    </tr>\n",
       "    <tr>\n",
       "      <th>75369</th>\n",
       "      <td>점 요즘 저렴 제품 중 제품 많 제품 너무 용량 대비 비싸 곰 유명 브랜드 구매 보...</td>\n",
       "    </tr>\n",
       "    <tr>\n",
       "      <th>75370</th>\n",
       "      <td>느낌</td>\n",
       "    </tr>\n",
       "    <tr>\n",
       "      <th>75371</th>\n",
       "      <td>무난하</td>\n",
       "    </tr>\n",
       "  </tbody>\n",
       "</table>\n",
       "<p>75372 rows × 1 columns</p>\n",
       "</div>"
      ],
      "text/plain": [
       "                                                       0\n",
       "0                                                무난 사용 같\n",
       "1                                                   잘 사용\n",
       "2                                                     감사\n",
       "3                 아빠 땀 흘리 서 크림 눈 들어가 안 바르 시 이거 자극 없 괜찮 시\n",
       "4                                       늘 사용 제품 백 탁 거의 없\n",
       "...                                                  ...\n",
       "75367  눈 시리 피부 예민 편 잘못 구매 피부 쓰라리 경우 있 눌 시림 자주 느끼 제품 자...\n",
       "75368  저 서 크림 권장량 그대로 다 바르 눈 시리 있 선 크림 제품 많 이거 바르 피부 ...\n",
       "75369  점 요즘 저렴 제품 중 제품 많 제품 너무 용량 대비 비싸 곰 유명 브랜드 구매 보...\n",
       "75370                                                 느낌\n",
       "75371                                                무난하\n",
       "\n",
       "[75372 rows x 1 columns]"
      ]
     },
     "execution_count": 2,
     "metadata": {},
     "output_type": "execute_result"
    }
   ],
   "source": [
    "suncare_top_crc3_df"
   ]
  },
  {
   "cell_type": "code",
   "execution_count": 3,
   "metadata": {},
   "outputs": [],
   "source": [
    "from konlpy.tag import Okt\n",
    "# 형태소 분석기\n",
    "okt = Okt()\n",
    "\n",
    "# SentiWord_Dict.txt 감성사전 불러오기\n",
    "def load_senti_dict(file_path):\n",
    "    senti_dict = {}\n",
    "    with open(file_path, 'r', encoding='utf-8') as f:\n",
    "        for line in f:\n",
    "            parts = line.strip().split()  # 공백으로 분리    \n",
    "            if len(parts) > 1:\n",
    "                word = ' '.join(parts[:-1])  # 마지막 항목을 제외한 나머지를 단어로 결합\n",
    "                score = int(parts[-1])  # 마지막 항목을 점수로 처리\n",
    "                senti_dict[word] = score\n",
    "            else:\n",
    "                print(f\"해당 줄을 무시합니다: {line}\")\n",
    "    return senti_dict\n",
    "\n",
    "# 감성 사전 로드\n",
    "senti_dict = load_senti_dict(r'C:\\Users\\82108\\Downloads\\KnuSentiLex-master(1)\\KnuSentiLex-master\\SentiWord_Dict.txt')\n",
    "\n",
    "# 감성 분석 함수 \n",
    "def analyze_sentiment(text, senti_dict):\n",
    "    # 형태소 분석\n",
    "    morphs = okt.morphs(text)\n",
    "    \n",
    "    # 감정 점수 계산\n",
    "    sentiment_score = 0\n",
    "    for word in morphs:\n",
    "        if word in senti_dict:  # 단어가 사전에 있는 경우\n",
    "            sentiment_score += senti_dict[word]\n",
    "    \n",
    "    # 점수에 따라 감정 판단\n",
    "    if sentiment_score > 0:\n",
    "        return \"긍정\"\n",
    "    elif sentiment_score < 0:\n",
    "        return \"부정\"\n",
    "    else:\n",
    "        return \"중립\"\n"
   ]
  },
  {
   "cell_type": "markdown",
   "metadata": {},
   "source": [
    "## 좋X"
   ]
  },
  {
   "cell_type": "code",
   "execution_count": 4,
   "metadata": {},
   "outputs": [
    {
     "name": "stdout",
     "output_type": "stream",
     "text": [
      "                                                    Text Sentiment\n",
      "0                                                무난 사용 같        중립\n",
      "1                                                   잘 사용        긍정\n",
      "2                                                     감사        긍정\n",
      "3                 아빠 땀 흘리 서 크림 눈 들어가 안 바르 시 이거 자극 없 괜찮 시        중립\n",
      "4                                       늘 사용 제품 백 탁 거의 없        중립\n",
      "...                                                  ...       ...\n",
      "75367  눈 시리 피부 예민 편 잘못 구매 피부 쓰라리 경우 있 눌 시림 자주 느끼 제품 자...        부정\n",
      "75368  저 서 크림 권장량 그대로 다 바르 눈 시리 있 선 크림 제품 많 이거 바르 피부 ...        긍정\n",
      "75369  점 요즘 저렴 제품 중 제품 많 제품 너무 용량 대비 비싸 곰 유명 브랜드 구매 보...        중립\n",
      "75370                                                 느낌        중립\n",
      "75371                                                무난하        중립\n",
      "\n",
      "[75372 rows x 2 columns]\n"
     ]
    }
   ],
   "source": [
    "# suncare_top_crc3_df = pd.read_excel(r\"C:\\Users\\82108\\Downloads\\suncare_top_crc3.xlsx\")\n",
    "# df를 list로 변경\n",
    "suncare_top_crc3_list = suncare_top_crc3_df.iloc[:, 0].astype(str).tolist()\n",
    "crc3_results = [(text, analyze_sentiment(text, senti_dict)) for text in suncare_top_crc3_list]\n",
    "\n",
    "# 결과 출력\n",
    "crc3_results_df = pd.DataFrame(crc3_results, columns=['Text', 'Sentiment'])\n",
    "print(crc3_results_df)"
   ]
  },
  {
   "cell_type": "code",
   "execution_count": 5,
   "metadata": {},
   "outputs": [],
   "source": [
    "# 긍정, 부정, 중립 리스트 생성\n",
    "crc3_positive_list = []\n",
    "crc3_negative_list = []\n",
    "crc3_neutral_list = []\n",
    "\n",
    "# 각 텍스트에 대해 감정 분석을 수행하고 리스트에 저장\n",
    "for text in suncare_top_crc3_list:\n",
    "    sentiment = analyze_sentiment(text, senti_dict)\n",
    "    if sentiment == \"긍정\":\n",
    "        crc3_positive_list.append(text)\n",
    "    elif sentiment == \"부정\":\n",
    "        crc3_negative_list.append(text)\n",
    "    else:\n",
    "        crc3_neutral_list.append(text)\n"
   ]
  },
  {
   "cell_type": "code",
   "execution_count": 6,
   "metadata": {},
   "outputs": [],
   "source": [
    "# crc긍/부/중 리스트 엑셀파일로 저장하기\n",
    "crc3_positive_list_df = pd.DataFrame(crc3_positive_list, columns=['text'])\n",
    "crc3_negative_list_df = pd.DataFrame(crc3_negative_list, columns=['text'])\n",
    "crc3_neutral_list_df = pd.DataFrame(crc3_neutral_list, columns=['text'])\n",
    "\n",
    "crc3_positive_list_excel = crc3_positive_list_df.to_excel('top_crc3_positive_list.xlsx', index= False)\n",
    "crc3_negative_list_excel = crc3_negative_list_df.to_excel('top_crc3_negative_list.xlsx', index= False)\n",
    "crc3_neutral_list_excel = crc3_neutral_list_df.to_excel('top_crc3_neutral_list.xlsx', index= False)"
   ]
  },
  {
   "cell_type": "code",
   "execution_count": null,
   "metadata": {},
   "outputs": [],
   "source": []
  }
 ],
 "metadata": {
  "kernelspec": {
   "display_name": "Python 3",
   "language": "python",
   "name": "python3"
  },
  "language_info": {
   "codemirror_mode": {
    "name": "ipython",
    "version": 3
   },
   "file_extension": ".py",
   "mimetype": "text/x-python",
   "name": "python",
   "nbconvert_exporter": "python",
   "pygments_lexer": "ipython3",
   "version": "3.10.11"
  }
 },
 "nbformat": 4,
 "nbformat_minor": 2
}
